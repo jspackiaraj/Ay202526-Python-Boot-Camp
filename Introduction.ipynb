{
  "nbformat": 4,
  "nbformat_minor": 0,
  "metadata": {
    "colab": {
      "provenance": [],
      "authorship_tag": "ABX9TyN1o2qsrpPdwWRZRsdrgtgy",
      "include_colab_link": true
    },
    "kernelspec": {
      "name": "python3",
      "display_name": "Python 3"
    },
    "language_info": {
      "name": "python"
    }
  },
  "cells": [
    {
      "cell_type": "markdown",
      "metadata": {
        "id": "view-in-github",
        "colab_type": "text"
      },
      "source": [
        "<a href=\"https://colab.research.google.com/github/jspackiaraj/Ay202526-Python-Boot-Camp/blob/main/Introduction.ipynb\" target=\"_parent\"><img src=\"https://colab.research.google.com/assets/colab-badge.svg\" alt=\"Open In Colab\"/></a>"
      ]
    },
    {
      "cell_type": "markdown",
      "source": [
        "Programming is nothing but communicating with the computer. While a little bit of slang is OK when we communicate with humans, the languages like `Python` expect that the rules of grammer are rigidly followed. They also expect that the vocabulary is strictly adhered to. Thus, there is an unspoken fear among many people that the computer might scold them and belittle them. However, the best part is the computer is just a tool and it is trying hard to bring the best out of us. If we are able to view the computer with this outlook, the hesitation and apprehension in approaching the computer to solve a problem that we are having is greatly reduced.\n"
      ],
      "metadata": {
        "id": "-eg7R2z2kJp3"
      }
    },
    {
      "cell_type": "code",
      "source": [
        "sample_string = \"Hello World\""
      ],
      "metadata": {
        "id": "MlegChFHj6ZI"
      },
      "execution_count": null,
      "outputs": []
    }
  ]
}