{
  "nbformat": 4,
  "nbformat_minor": 0,
  "metadata": {
    "colab": {
      "provenance": [],
      "authorship_tag": "ABX9TyPXzPENdHoOAxiMAM+ncMCl",
      "include_colab_link": true
    },
    "kernelspec": {
      "name": "python3",
      "display_name": "Python 3"
    },
    "language_info": {
      "name": "python"
    }
  },
  "cells": [
    {
      "cell_type": "markdown",
      "metadata": {
        "id": "view-in-github",
        "colab_type": "text"
      },
      "source": [
        "<a href=\"https://colab.research.google.com/github/jspackiaraj/Ay202526-Python-Boot-Camp/blob/main/Introduction.ipynb\" target=\"_parent\"><img src=\"https://colab.research.google.com/assets/colab-badge.svg\" alt=\"Open In Colab\"/></a>"
      ]
    },
    {
      "cell_type": "markdown",
      "source": [
        "Programming is nothing but communicating with the computer. While a little bit of slang is OK when we communicate with humans, the languages like `Python` expect that the rules of grammer are rigidly followed. They also expect that the vocabulary is strictly adhered to. Thus, there is an unspoken fear among many people that the computer might scold them and belittle them. However, the best part is the computer is just a tool and it is trying hard to bring the best out of us. If we are able to view the computer with this outlook, the hesitation and apprehension in approaching the computer to solve a problem that we are having is greatly reduced.\n",
        "\n",
        "The math background that most of us have is more than sufficient to understand how we can tame our `Python` fears.\n",
        "\n",
        "We are using the fundamental definition of the computer as an efficient compuation device - compute results from numbers. Understanding that we are going to model all our interactions based on the fact that we are going to only be computation and reduce all our interaction to well defined code and a helper who will guide us to understand our mistakes, it makes coding fun.\n",
        "\n",
        "<div style=\"\n",
        "    background-color: #f0f8ff;\n",
        "    border-left: 6px solid #4682b4;\n",
        "    padding: 15px 20px;\n",
        "    margin: 10px 0;\n",
        "    border-radius: 8px;\n",
        "    box-shadow: 2px 2px 8px rgba(0, 0, 0, 0.1);\n",
        "    display: flex;\n",
        "    align-items: center;\n",
        "    font-family: 'Segoe UI', sans-serif;\n",
        "    color: #333;\n",
        "\">\n",
        "  <span style=\"font-size: 24px; margin-right: 15px;\">ℹ️</span>\n",
        "  <div>\n",
        "    <strong>Note:</strong> When we keep listening to what our compiler tells us, and understand the different mistakes, it will help us to better identify the mistakes and work better.\n",
        "  </div>\n",
        "</div>\n"
      ],
      "metadata": {
        "id": "-eg7R2z2kJp3"
      }
    },
    {
      "cell_type": "code",
      "source": [],
      "metadata": {
        "id": "v-8aETezopwT"
      },
      "execution_count": null,
      "outputs": []
    },
    {
      "cell_type": "code",
      "source": [
        "sample_string = \"Hello World\"\n",
        "print(sample_string)"
      ],
      "metadata": {
        "id": "MlegChFHj6ZI"
      },
      "execution_count": null,
      "outputs": []
    }
  ]
}